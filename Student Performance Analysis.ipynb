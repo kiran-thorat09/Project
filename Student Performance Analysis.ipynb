{
 "cells": [
  {
   "cell_type": "code",
   "execution_count": 98,
   "id": "4069c725",
   "metadata": {},
   "outputs": [],
   "source": [
    "#importing necessary libraries\n",
    "import pandas as pd\n",
    "from sklearn.model_selection import train_test_split\n",
    "from sklearn.preprocessing import LabelEncoder\n",
    "from sklearn.ensemble import RandomForestClassifier\n",
    "from sklearn.metrics import accuracy_score, classification_report\n",
    "from sklearn.ensemble import RandomForestRegressor\n",
    "from sklearn.metrics import mean_squared_error, r2_score"
   ]
  },
  {
   "cell_type": "code",
   "execution_count": 99,
   "id": "a9af203e",
   "metadata": {},
   "outputs": [],
   "source": [
    "#reading data\n",
    "df=pd.read_csv(\"student_dataset.csv\")"
   ]
  },
  {
   "cell_type": "code",
   "execution_count": 100,
   "id": "d3f5a20f",
   "metadata": {},
   "outputs": [
    {
     "data": {
      "text/plain": [
       "Index(['Student_Names', 'Phone_No.', 'Math', 'Physics', 'Chemistry', 'Grade',\n",
       "       'Comment', 'Roll No.', 'School Name', 'Student Address'],\n",
       "      dtype='object')"
      ]
     },
     "execution_count": 100,
     "metadata": {},
     "output_type": "execute_result"
    }
   ],
   "source": [
    "#checking columns\n",
    "df.columns"
   ]
  },
  {
   "cell_type": "code",
   "execution_count": 101,
   "id": "863811f8",
   "metadata": {},
   "outputs": [
    {
     "name": "stdout",
     "output_type": "stream",
     "text": [
      "<class 'pandas.core.frame.DataFrame'>\n",
      "RangeIndex: 9000 entries, 0 to 8999\n",
      "Data columns (total 10 columns):\n",
      " #   Column           Non-Null Count  Dtype \n",
      "---  ------           --------------  ----- \n",
      " 0   Student_Names    9000 non-null   object\n",
      " 1   Phone_No.        9000 non-null   int64 \n",
      " 2   Math             9000 non-null   int64 \n",
      " 3   Physics          9000 non-null   int64 \n",
      " 4   Chemistry        9000 non-null   int64 \n",
      " 5   Grade            9000 non-null   object\n",
      " 6   Comment          9000 non-null   object\n",
      " 7   Roll No.         9000 non-null   int64 \n",
      " 8   School Name      9000 non-null   object\n",
      " 9   Student Address  9000 non-null   object\n",
      "dtypes: int64(5), object(5)\n",
      "memory usage: 703.3+ KB\n"
     ]
    }
   ],
   "source": [
    "df.info()"
   ]
  },
  {
   "cell_type": "code",
   "execution_count": 102,
   "id": "ebde310d",
   "metadata": {},
   "outputs": [
    {
     "data": {
      "text/plain": [
       "Student_Names      0\n",
       "Phone_No.          0\n",
       "Math               0\n",
       "Physics            0\n",
       "Chemistry          0\n",
       "Grade              0\n",
       "Comment            0\n",
       "Roll No.           0\n",
       "School Name        0\n",
       "Student Address    0\n",
       "dtype: int64"
      ]
     },
     "execution_count": 102,
     "metadata": {},
     "output_type": "execute_result"
    }
   ],
   "source": [
    "#checking null values\n",
    "df.isnull().sum()"
   ]
  },
  {
   "cell_type": "code",
   "execution_count": 103,
   "id": "7a20e046",
   "metadata": {},
   "outputs": [
    {
     "data": {
      "text/html": [
       "<div>\n",
       "<style scoped>\n",
       "    .dataframe tbody tr th:only-of-type {\n",
       "        vertical-align: middle;\n",
       "    }\n",
       "\n",
       "    .dataframe tbody tr th {\n",
       "        vertical-align: top;\n",
       "    }\n",
       "\n",
       "    .dataframe thead th {\n",
       "        text-align: right;\n",
       "    }\n",
       "</style>\n",
       "<table border=\"1\" class=\"dataframe\">\n",
       "  <thead>\n",
       "    <tr style=\"text-align: right;\">\n",
       "      <th></th>\n",
       "      <th>Student_Names</th>\n",
       "      <th>Phone_No.</th>\n",
       "      <th>Math</th>\n",
       "      <th>Physics</th>\n",
       "      <th>Chemistry</th>\n",
       "      <th>Grade</th>\n",
       "      <th>Comment</th>\n",
       "      <th>Roll No.</th>\n",
       "      <th>School Name</th>\n",
       "      <th>Student Address</th>\n",
       "    </tr>\n",
       "  </thead>\n",
       "  <tbody>\n",
       "    <tr>\n",
       "      <th>0</th>\n",
       "      <td>Donald Contreras</td>\n",
       "      <td>9208625450</td>\n",
       "      <td>76</td>\n",
       "      <td>84</td>\n",
       "      <td>54</td>\n",
       "      <td>B+</td>\n",
       "      <td>Good Pursuance</td>\n",
       "      <td>524613</td>\n",
       "      <td>Martin Luther School</td>\n",
       "      <td>478 Mooney Park, New Valerie, VI 28836</td>\n",
       "    </tr>\n",
       "    <tr>\n",
       "      <th>1</th>\n",
       "      <td>Joseph Horton</td>\n",
       "      <td>9886408555</td>\n",
       "      <td>91</td>\n",
       "      <td>75</td>\n",
       "      <td>78</td>\n",
       "      <td>A</td>\n",
       "      <td>Very Good Achivement</td>\n",
       "      <td>561635</td>\n",
       "      <td>Martin Luther School</td>\n",
       "      <td>037 Matthew Shores, Greeneton, CA 98399</td>\n",
       "    </tr>\n",
       "    <tr>\n",
       "      <th>2</th>\n",
       "      <td>Savannah Burns MD</td>\n",
       "      <td>9047592659</td>\n",
       "      <td>64</td>\n",
       "      <td>98</td>\n",
       "      <td>20</td>\n",
       "      <td>C</td>\n",
       "      <td>Below Average Achivement</td>\n",
       "      <td>560985</td>\n",
       "      <td>Martin Luther School</td>\n",
       "      <td>96124 Lloyd Streets, Edwardmouth, DC 61677</td>\n",
       "    </tr>\n",
       "    <tr>\n",
       "      <th>3</th>\n",
       "      <td>William Carter</td>\n",
       "      <td>9048473864</td>\n",
       "      <td>15</td>\n",
       "      <td>95</td>\n",
       "      <td>32</td>\n",
       "      <td>D</td>\n",
       "      <td>Poor Pursuance</td>\n",
       "      <td>535126</td>\n",
       "      <td>Martin Luther School</td>\n",
       "      <td>11959 Clark Village, Ivanview, NH 43940</td>\n",
       "    </tr>\n",
       "    <tr>\n",
       "      <th>4</th>\n",
       "      <td>John Rodriguez</td>\n",
       "      <td>9685225730</td>\n",
       "      <td>86</td>\n",
       "      <td>86</td>\n",
       "      <td>66</td>\n",
       "      <td>B+</td>\n",
       "      <td>Good Pursuance</td>\n",
       "      <td>559410</td>\n",
       "      <td>Martin Luther School</td>\n",
       "      <td>051 Weaver Glen Apt. 724, West Davidborough, M...</td>\n",
       "    </tr>\n",
       "    <tr>\n",
       "      <th>...</th>\n",
       "      <td>...</td>\n",
       "      <td>...</td>\n",
       "      <td>...</td>\n",
       "      <td>...</td>\n",
       "      <td>...</td>\n",
       "      <td>...</td>\n",
       "      <td>...</td>\n",
       "      <td>...</td>\n",
       "      <td>...</td>\n",
       "      <td>...</td>\n",
       "    </tr>\n",
       "    <tr>\n",
       "      <th>8995</th>\n",
       "      <td>Kimberly Stevens</td>\n",
       "      <td>9129352703</td>\n",
       "      <td>40</td>\n",
       "      <td>87</td>\n",
       "      <td>65</td>\n",
       "      <td>B</td>\n",
       "      <td>Average Performance</td>\n",
       "      <td>569342</td>\n",
       "      <td>Martin Luther School</td>\n",
       "      <td>27054 Adrian Streets, Diazmouth, OH 81346</td>\n",
       "    </tr>\n",
       "    <tr>\n",
       "      <th>8996</th>\n",
       "      <td>Kelsey Bonilla</td>\n",
       "      <td>9649715711</td>\n",
       "      <td>56</td>\n",
       "      <td>84</td>\n",
       "      <td>75</td>\n",
       "      <td>B+</td>\n",
       "      <td>Good Pursuance</td>\n",
       "      <td>530124</td>\n",
       "      <td>Martin Luther School</td>\n",
       "      <td>570 Christopher Run, Williammouth, ND 11535</td>\n",
       "    </tr>\n",
       "    <tr>\n",
       "      <th>8997</th>\n",
       "      <td>Kelly Dunn</td>\n",
       "      <td>9825362271</td>\n",
       "      <td>80</td>\n",
       "      <td>70</td>\n",
       "      <td>16</td>\n",
       "      <td>C</td>\n",
       "      <td>Below Average Achivement</td>\n",
       "      <td>592266</td>\n",
       "      <td>Martin Luther School</td>\n",
       "      <td>32283 Carpenter Summit, North Patricia, PR 51483</td>\n",
       "    </tr>\n",
       "    <tr>\n",
       "      <th>8998</th>\n",
       "      <td>Joseph Nichols</td>\n",
       "      <td>9363540473</td>\n",
       "      <td>24</td>\n",
       "      <td>95</td>\n",
       "      <td>59</td>\n",
       "      <td>C</td>\n",
       "      <td>Below Average Achivement</td>\n",
       "      <td>583028</td>\n",
       "      <td>Martin Luther School</td>\n",
       "      <td>2336 Blackburn Fall Apt. 905, South Shelby, ND...</td>\n",
       "    </tr>\n",
       "    <tr>\n",
       "      <th>8999</th>\n",
       "      <td>Susan Armstrong</td>\n",
       "      <td>9879539785</td>\n",
       "      <td>31</td>\n",
       "      <td>76</td>\n",
       "      <td>18</td>\n",
       "      <td>D</td>\n",
       "      <td>Poor Pursuance</td>\n",
       "      <td>503637</td>\n",
       "      <td>Martin Luther School</td>\n",
       "      <td>2328 Jennifer Extension, Lake David, OR 11243</td>\n",
       "    </tr>\n",
       "  </tbody>\n",
       "</table>\n",
       "<p>9000 rows × 10 columns</p>\n",
       "</div>"
      ],
      "text/plain": [
       "          Student_Names   Phone_No.  Math  Physics  Chemistry Grade  \\\n",
       "0      Donald Contreras  9208625450    76       84         54    B+   \n",
       "1         Joseph Horton  9886408555    91       75         78     A   \n",
       "2     Savannah Burns MD  9047592659    64       98         20     C   \n",
       "3        William Carter  9048473864    15       95         32     D   \n",
       "4        John Rodriguez  9685225730    86       86         66    B+   \n",
       "...                 ...         ...   ...      ...        ...   ...   \n",
       "8995   Kimberly Stevens  9129352703    40       87         65     B   \n",
       "8996     Kelsey Bonilla  9649715711    56       84         75    B+   \n",
       "8997         Kelly Dunn  9825362271    80       70         16     C   \n",
       "8998     Joseph Nichols  9363540473    24       95         59     C   \n",
       "8999    Susan Armstrong  9879539785    31       76         18     D   \n",
       "\n",
       "                       Comment  Roll No.           School Name  \\\n",
       "0               Good Pursuance    524613  Martin Luther School   \n",
       "1         Very Good Achivement    561635  Martin Luther School   \n",
       "2     Below Average Achivement    560985  Martin Luther School   \n",
       "3               Poor Pursuance    535126  Martin Luther School   \n",
       "4               Good Pursuance    559410  Martin Luther School   \n",
       "...                        ...       ...                   ...   \n",
       "8995       Average Performance    569342  Martin Luther School   \n",
       "8996            Good Pursuance    530124  Martin Luther School   \n",
       "8997  Below Average Achivement    592266  Martin Luther School   \n",
       "8998  Below Average Achivement    583028  Martin Luther School   \n",
       "8999            Poor Pursuance    503637  Martin Luther School   \n",
       "\n",
       "                                        Student Address  \n",
       "0                478 Mooney Park, New Valerie, VI 28836  \n",
       "1               037 Matthew Shores, Greeneton, CA 98399  \n",
       "2            96124 Lloyd Streets, Edwardmouth, DC 61677  \n",
       "3               11959 Clark Village, Ivanview, NH 43940  \n",
       "4     051 Weaver Glen Apt. 724, West Davidborough, M...  \n",
       "...                                                 ...  \n",
       "8995          27054 Adrian Streets, Diazmouth, OH 81346  \n",
       "8996        570 Christopher Run, Williammouth, ND 11535  \n",
       "8997   32283 Carpenter Summit, North Patricia, PR 51483  \n",
       "8998  2336 Blackburn Fall Apt. 905, South Shelby, ND...  \n",
       "8999      2328 Jennifer Extension, Lake David, OR 11243  \n",
       "\n",
       "[9000 rows x 10 columns]"
      ]
     },
     "execution_count": 103,
     "metadata": {},
     "output_type": "execute_result"
    }
   ],
   "source": [
    "df"
   ]
  },
  {
   "cell_type": "markdown",
   "id": "7ec253e1",
   "metadata": {},
   "source": [
    "### Preprocessing"
   ]
  },
  {
   "cell_type": "code",
   "execution_count": 104,
   "id": "8a6c0c77",
   "metadata": {},
   "outputs": [],
   "source": [
    "# Drop irrelevant columns\n",
    "df2= df.drop(columns=['Student_Names', 'Phone_No.', 'Roll No.', 'Comment', 'Student Address'])"
   ]
  },
  {
   "cell_type": "code",
   "execution_count": 105,
   "id": "1c72ce9c",
   "metadata": {},
   "outputs": [
    {
     "data": {
      "text/plain": [
       "Index(['Math', 'Physics', 'Chemistry', 'Grade', 'School Name'], dtype='object')"
      ]
     },
     "execution_count": 105,
     "metadata": {},
     "output_type": "execute_result"
    }
   ],
   "source": [
    "#checking columns after drop\n",
    "df2.columns"
   ]
  },
  {
   "cell_type": "code",
   "execution_count": 106,
   "id": "e082b458",
   "metadata": {},
   "outputs": [],
   "source": [
    "#encoding target variable\n",
    "label_encoder = LabelEncoder()\n",
    "df2['Grade'] = label_encoder.fit_transform(df2['Grade'])"
   ]
  },
  {
   "cell_type": "markdown",
   "id": "90c89312",
   "metadata": {},
   "source": [
    "### Define feature"
   ]
  },
  {
   "cell_type": "code",
   "execution_count": 107,
   "id": "1612a5a9",
   "metadata": {},
   "outputs": [],
   "source": [
    "#feature and target\n",
    "X = df2[['Math', 'Physics', 'Chemistry']]  \n",
    "y = df2['Grade']  "
   ]
  },
  {
   "cell_type": "code",
   "execution_count": 108,
   "id": "18bf75d6",
   "metadata": {},
   "outputs": [
    {
     "data": {
      "text/html": [
       "<div>\n",
       "<style scoped>\n",
       "    .dataframe tbody tr th:only-of-type {\n",
       "        vertical-align: middle;\n",
       "    }\n",
       "\n",
       "    .dataframe tbody tr th {\n",
       "        vertical-align: top;\n",
       "    }\n",
       "\n",
       "    .dataframe thead th {\n",
       "        text-align: right;\n",
       "    }\n",
       "</style>\n",
       "<table border=\"1\" class=\"dataframe\">\n",
       "  <thead>\n",
       "    <tr style=\"text-align: right;\">\n",
       "      <th></th>\n",
       "      <th>Math</th>\n",
       "      <th>Physics</th>\n",
       "      <th>Chemistry</th>\n",
       "      <th>Grade</th>\n",
       "      <th>School Name</th>\n",
       "    </tr>\n",
       "  </thead>\n",
       "  <tbody>\n",
       "    <tr>\n",
       "      <th>0</th>\n",
       "      <td>76</td>\n",
       "      <td>84</td>\n",
       "      <td>54</td>\n",
       "      <td>3</td>\n",
       "      <td>Martin Luther School</td>\n",
       "    </tr>\n",
       "    <tr>\n",
       "      <th>1</th>\n",
       "      <td>91</td>\n",
       "      <td>75</td>\n",
       "      <td>78</td>\n",
       "      <td>0</td>\n",
       "      <td>Martin Luther School</td>\n",
       "    </tr>\n",
       "    <tr>\n",
       "      <th>2</th>\n",
       "      <td>64</td>\n",
       "      <td>98</td>\n",
       "      <td>20</td>\n",
       "      <td>4</td>\n",
       "      <td>Martin Luther School</td>\n",
       "    </tr>\n",
       "    <tr>\n",
       "      <th>3</th>\n",
       "      <td>15</td>\n",
       "      <td>95</td>\n",
       "      <td>32</td>\n",
       "      <td>5</td>\n",
       "      <td>Martin Luther School</td>\n",
       "    </tr>\n",
       "    <tr>\n",
       "      <th>4</th>\n",
       "      <td>86</td>\n",
       "      <td>86</td>\n",
       "      <td>66</td>\n",
       "      <td>3</td>\n",
       "      <td>Martin Luther School</td>\n",
       "    </tr>\n",
       "    <tr>\n",
       "      <th>...</th>\n",
       "      <td>...</td>\n",
       "      <td>...</td>\n",
       "      <td>...</td>\n",
       "      <td>...</td>\n",
       "      <td>...</td>\n",
       "    </tr>\n",
       "    <tr>\n",
       "      <th>8995</th>\n",
       "      <td>40</td>\n",
       "      <td>87</td>\n",
       "      <td>65</td>\n",
       "      <td>2</td>\n",
       "      <td>Martin Luther School</td>\n",
       "    </tr>\n",
       "    <tr>\n",
       "      <th>8996</th>\n",
       "      <td>56</td>\n",
       "      <td>84</td>\n",
       "      <td>75</td>\n",
       "      <td>3</td>\n",
       "      <td>Martin Luther School</td>\n",
       "    </tr>\n",
       "    <tr>\n",
       "      <th>8997</th>\n",
       "      <td>80</td>\n",
       "      <td>70</td>\n",
       "      <td>16</td>\n",
       "      <td>4</td>\n",
       "      <td>Martin Luther School</td>\n",
       "    </tr>\n",
       "    <tr>\n",
       "      <th>8998</th>\n",
       "      <td>24</td>\n",
       "      <td>95</td>\n",
       "      <td>59</td>\n",
       "      <td>4</td>\n",
       "      <td>Martin Luther School</td>\n",
       "    </tr>\n",
       "    <tr>\n",
       "      <th>8999</th>\n",
       "      <td>31</td>\n",
       "      <td>76</td>\n",
       "      <td>18</td>\n",
       "      <td>5</td>\n",
       "      <td>Martin Luther School</td>\n",
       "    </tr>\n",
       "  </tbody>\n",
       "</table>\n",
       "<p>9000 rows × 5 columns</p>\n",
       "</div>"
      ],
      "text/plain": [
       "      Math  Physics  Chemistry  Grade           School Name\n",
       "0       76       84         54      3  Martin Luther School\n",
       "1       91       75         78      0  Martin Luther School\n",
       "2       64       98         20      4  Martin Luther School\n",
       "3       15       95         32      5  Martin Luther School\n",
       "4       86       86         66      3  Martin Luther School\n",
       "...    ...      ...        ...    ...                   ...\n",
       "8995    40       87         65      2  Martin Luther School\n",
       "8996    56       84         75      3  Martin Luther School\n",
       "8997    80       70         16      4  Martin Luther School\n",
       "8998    24       95         59      4  Martin Luther School\n",
       "8999    31       76         18      5  Martin Luther School\n",
       "\n",
       "[9000 rows x 5 columns]"
      ]
     },
     "execution_count": 108,
     "metadata": {},
     "output_type": "execute_result"
    }
   ],
   "source": [
    "df2"
   ]
  },
  {
   "cell_type": "code",
   "execution_count": 109,
   "id": "00a44e72",
   "metadata": {},
   "outputs": [],
   "source": [
    "#train test split\n",
    "X_train, X_test, y_train, y_test = train_test_split(X, y, test_size=0.2, random_state=42)"
   ]
  },
  {
   "cell_type": "markdown",
   "id": "09fce173",
   "metadata": {},
   "source": [
    "## Classification"
   ]
  },
  {
   "cell_type": "code",
   "execution_count": 110,
   "id": "af9aa081",
   "metadata": {},
   "outputs": [
    {
     "data": {
      "text/html": [
       "<style>#sk-container-id-9 {color: black;}#sk-container-id-9 pre{padding: 0;}#sk-container-id-9 div.sk-toggleable {background-color: white;}#sk-container-id-9 label.sk-toggleable__label {cursor: pointer;display: block;width: 100%;margin-bottom: 0;padding: 0.3em;box-sizing: border-box;text-align: center;}#sk-container-id-9 label.sk-toggleable__label-arrow:before {content: \"▸\";float: left;margin-right: 0.25em;color: #696969;}#sk-container-id-9 label.sk-toggleable__label-arrow:hover:before {color: black;}#sk-container-id-9 div.sk-estimator:hover label.sk-toggleable__label-arrow:before {color: black;}#sk-container-id-9 div.sk-toggleable__content {max-height: 0;max-width: 0;overflow: hidden;text-align: left;background-color: #f0f8ff;}#sk-container-id-9 div.sk-toggleable__content pre {margin: 0.2em;color: black;border-radius: 0.25em;background-color: #f0f8ff;}#sk-container-id-9 input.sk-toggleable__control:checked~div.sk-toggleable__content {max-height: 200px;max-width: 100%;overflow: auto;}#sk-container-id-9 input.sk-toggleable__control:checked~label.sk-toggleable__label-arrow:before {content: \"▾\";}#sk-container-id-9 div.sk-estimator input.sk-toggleable__control:checked~label.sk-toggleable__label {background-color: #d4ebff;}#sk-container-id-9 div.sk-label input.sk-toggleable__control:checked~label.sk-toggleable__label {background-color: #d4ebff;}#sk-container-id-9 input.sk-hidden--visually {border: 0;clip: rect(1px 1px 1px 1px);clip: rect(1px, 1px, 1px, 1px);height: 1px;margin: -1px;overflow: hidden;padding: 0;position: absolute;width: 1px;}#sk-container-id-9 div.sk-estimator {font-family: monospace;background-color: #f0f8ff;border: 1px dotted black;border-radius: 0.25em;box-sizing: border-box;margin-bottom: 0.5em;}#sk-container-id-9 div.sk-estimator:hover {background-color: #d4ebff;}#sk-container-id-9 div.sk-parallel-item::after {content: \"\";width: 100%;border-bottom: 1px solid gray;flex-grow: 1;}#sk-container-id-9 div.sk-label:hover label.sk-toggleable__label {background-color: #d4ebff;}#sk-container-id-9 div.sk-serial::before {content: \"\";position: absolute;border-left: 1px solid gray;box-sizing: border-box;top: 0;bottom: 0;left: 50%;z-index: 0;}#sk-container-id-9 div.sk-serial {display: flex;flex-direction: column;align-items: center;background-color: white;padding-right: 0.2em;padding-left: 0.2em;position: relative;}#sk-container-id-9 div.sk-item {position: relative;z-index: 1;}#sk-container-id-9 div.sk-parallel {display: flex;align-items: stretch;justify-content: center;background-color: white;position: relative;}#sk-container-id-9 div.sk-item::before, #sk-container-id-9 div.sk-parallel-item::before {content: \"\";position: absolute;border-left: 1px solid gray;box-sizing: border-box;top: 0;bottom: 0;left: 50%;z-index: -1;}#sk-container-id-9 div.sk-parallel-item {display: flex;flex-direction: column;z-index: 1;position: relative;background-color: white;}#sk-container-id-9 div.sk-parallel-item:first-child::after {align-self: flex-end;width: 50%;}#sk-container-id-9 div.sk-parallel-item:last-child::after {align-self: flex-start;width: 50%;}#sk-container-id-9 div.sk-parallel-item:only-child::after {width: 0;}#sk-container-id-9 div.sk-dashed-wrapped {border: 1px dashed gray;margin: 0 0.4em 0.5em 0.4em;box-sizing: border-box;padding-bottom: 0.4em;background-color: white;}#sk-container-id-9 div.sk-label label {font-family: monospace;font-weight: bold;display: inline-block;line-height: 1.2em;}#sk-container-id-9 div.sk-label-container {text-align: center;}#sk-container-id-9 div.sk-container {/* jupyter's `normalize.less` sets `[hidden] { display: none; }` but bootstrap.min.css set `[hidden] { display: none !important; }` so we also need the `!important` here to be able to override the default hidden behavior on the sphinx rendered scikit-learn.org. See: https://github.com/scikit-learn/scikit-learn/issues/21755 */display: inline-block !important;position: relative;}#sk-container-id-9 div.sk-text-repr-fallback {display: none;}</style><div id=\"sk-container-id-9\" class=\"sk-top-container\"><div class=\"sk-text-repr-fallback\"><pre>RandomForestClassifier(random_state=42)</pre><b>In a Jupyter environment, please rerun this cell to show the HTML representation or trust the notebook. <br />On GitHub, the HTML representation is unable to render, please try loading this page with nbviewer.org.</b></div><div class=\"sk-container\" hidden><div class=\"sk-item\"><div class=\"sk-estimator sk-toggleable\"><input class=\"sk-toggleable__control sk-hidden--visually\" id=\"sk-estimator-id-9\" type=\"checkbox\" checked><label for=\"sk-estimator-id-9\" class=\"sk-toggleable__label sk-toggleable__label-arrow\">RandomForestClassifier</label><div class=\"sk-toggleable__content\"><pre>RandomForestClassifier(random_state=42)</pre></div></div></div></div></div>"
      ],
      "text/plain": [
       "RandomForestClassifier(random_state=42)"
      ]
     },
     "execution_count": 110,
     "metadata": {},
     "output_type": "execute_result"
    }
   ],
   "source": [
    "model = RandomForestClassifier(random_state=42)\n",
    "model.fit(X_train, y_train)"
   ]
  },
  {
   "cell_type": "code",
   "execution_count": 111,
   "id": "3076b726",
   "metadata": {},
   "outputs": [],
   "source": [
    "#prediction\n",
    "y_pred = model.predict(X_test)"
   ]
  },
  {
   "cell_type": "code",
   "execution_count": 112,
   "id": "8c1b34f8",
   "metadata": {},
   "outputs": [],
   "source": [
    "#model evaluation\n",
    "accuracy = accuracy_score(y_test, y_pred)\n",
    "classification_rep = classification_report(y_test, y_pred, target_names=label_encoder.classes_)"
   ]
  },
  {
   "cell_type": "code",
   "execution_count": 113,
   "id": "48c37f36",
   "metadata": {},
   "outputs": [
    {
     "name": "stdout",
     "output_type": "stream",
     "text": [
      "Accuracy: 0.9211\n",
      "Classification Report:\n",
      "               precision    recall  f1-score   support\n",
      "\n",
      "           A       0.94      0.86      0.90        59\n",
      "          A+       1.00      1.00      1.00         5\n",
      "           B       0.91      0.90      0.90       368\n",
      "          B+       0.93      0.89      0.91       201\n",
      "           C       0.88      0.90      0.89       425\n",
      "           D       0.94      0.96      0.95       593\n",
      "           F       0.99      0.93      0.96       149\n",
      "\n",
      "    accuracy                           0.92      1800\n",
      "   macro avg       0.94      0.92      0.93      1800\n",
      "weighted avg       0.92      0.92      0.92      1800\n",
      "\n"
     ]
    }
   ],
   "source": [
    "print(f\"Accuracy: {accuracy:.4f}\")\n",
    "print(\"Classification Report:\\n\", classification_rep)"
   ]
  },
  {
   "cell_type": "markdown",
   "id": "9e164a54",
   "metadata": {},
   "source": [
    "##  Regression"
   ]
  },
  {
   "cell_type": "code",
   "execution_count": 114,
   "id": "42e6754c",
   "metadata": {},
   "outputs": [
    {
     "data": {
      "text/html": [
       "<style>#sk-container-id-10 {color: black;}#sk-container-id-10 pre{padding: 0;}#sk-container-id-10 div.sk-toggleable {background-color: white;}#sk-container-id-10 label.sk-toggleable__label {cursor: pointer;display: block;width: 100%;margin-bottom: 0;padding: 0.3em;box-sizing: border-box;text-align: center;}#sk-container-id-10 label.sk-toggleable__label-arrow:before {content: \"▸\";float: left;margin-right: 0.25em;color: #696969;}#sk-container-id-10 label.sk-toggleable__label-arrow:hover:before {color: black;}#sk-container-id-10 div.sk-estimator:hover label.sk-toggleable__label-arrow:before {color: black;}#sk-container-id-10 div.sk-toggleable__content {max-height: 0;max-width: 0;overflow: hidden;text-align: left;background-color: #f0f8ff;}#sk-container-id-10 div.sk-toggleable__content pre {margin: 0.2em;color: black;border-radius: 0.25em;background-color: #f0f8ff;}#sk-container-id-10 input.sk-toggleable__control:checked~div.sk-toggleable__content {max-height: 200px;max-width: 100%;overflow: auto;}#sk-container-id-10 input.sk-toggleable__control:checked~label.sk-toggleable__label-arrow:before {content: \"▾\";}#sk-container-id-10 div.sk-estimator input.sk-toggleable__control:checked~label.sk-toggleable__label {background-color: #d4ebff;}#sk-container-id-10 div.sk-label input.sk-toggleable__control:checked~label.sk-toggleable__label {background-color: #d4ebff;}#sk-container-id-10 input.sk-hidden--visually {border: 0;clip: rect(1px 1px 1px 1px);clip: rect(1px, 1px, 1px, 1px);height: 1px;margin: -1px;overflow: hidden;padding: 0;position: absolute;width: 1px;}#sk-container-id-10 div.sk-estimator {font-family: monospace;background-color: #f0f8ff;border: 1px dotted black;border-radius: 0.25em;box-sizing: border-box;margin-bottom: 0.5em;}#sk-container-id-10 div.sk-estimator:hover {background-color: #d4ebff;}#sk-container-id-10 div.sk-parallel-item::after {content: \"\";width: 100%;border-bottom: 1px solid gray;flex-grow: 1;}#sk-container-id-10 div.sk-label:hover label.sk-toggleable__label {background-color: #d4ebff;}#sk-container-id-10 div.sk-serial::before {content: \"\";position: absolute;border-left: 1px solid gray;box-sizing: border-box;top: 0;bottom: 0;left: 50%;z-index: 0;}#sk-container-id-10 div.sk-serial {display: flex;flex-direction: column;align-items: center;background-color: white;padding-right: 0.2em;padding-left: 0.2em;position: relative;}#sk-container-id-10 div.sk-item {position: relative;z-index: 1;}#sk-container-id-10 div.sk-parallel {display: flex;align-items: stretch;justify-content: center;background-color: white;position: relative;}#sk-container-id-10 div.sk-item::before, #sk-container-id-10 div.sk-parallel-item::before {content: \"\";position: absolute;border-left: 1px solid gray;box-sizing: border-box;top: 0;bottom: 0;left: 50%;z-index: -1;}#sk-container-id-10 div.sk-parallel-item {display: flex;flex-direction: column;z-index: 1;position: relative;background-color: white;}#sk-container-id-10 div.sk-parallel-item:first-child::after {align-self: flex-end;width: 50%;}#sk-container-id-10 div.sk-parallel-item:last-child::after {align-self: flex-start;width: 50%;}#sk-container-id-10 div.sk-parallel-item:only-child::after {width: 0;}#sk-container-id-10 div.sk-dashed-wrapped {border: 1px dashed gray;margin: 0 0.4em 0.5em 0.4em;box-sizing: border-box;padding-bottom: 0.4em;background-color: white;}#sk-container-id-10 div.sk-label label {font-family: monospace;font-weight: bold;display: inline-block;line-height: 1.2em;}#sk-container-id-10 div.sk-label-container {text-align: center;}#sk-container-id-10 div.sk-container {/* jupyter's `normalize.less` sets `[hidden] { display: none; }` but bootstrap.min.css set `[hidden] { display: none !important; }` so we also need the `!important` here to be able to override the default hidden behavior on the sphinx rendered scikit-learn.org. See: https://github.com/scikit-learn/scikit-learn/issues/21755 */display: inline-block !important;position: relative;}#sk-container-id-10 div.sk-text-repr-fallback {display: none;}</style><div id=\"sk-container-id-10\" class=\"sk-top-container\"><div class=\"sk-text-repr-fallback\"><pre>RandomForestRegressor(random_state=42)</pre><b>In a Jupyter environment, please rerun this cell to show the HTML representation or trust the notebook. <br />On GitHub, the HTML representation is unable to render, please try loading this page with nbviewer.org.</b></div><div class=\"sk-container\" hidden><div class=\"sk-item\"><div class=\"sk-estimator sk-toggleable\"><input class=\"sk-toggleable__control sk-hidden--visually\" id=\"sk-estimator-id-10\" type=\"checkbox\" checked><label for=\"sk-estimator-id-10\" class=\"sk-toggleable__label sk-toggleable__label-arrow\">RandomForestRegressor</label><div class=\"sk-toggleable__content\"><pre>RandomForestRegressor(random_state=42)</pre></div></div></div></div></div>"
      ],
      "text/plain": [
       "RandomForestRegressor(random_state=42)"
      ]
     },
     "execution_count": 114,
     "metadata": {},
     "output_type": "execute_result"
    }
   ],
   "source": [
    "regressor = RandomForestRegressor(random_state=42)\n",
    "regressor.fit(X_train, y_train)"
   ]
  },
  {
   "cell_type": "code",
   "execution_count": 115,
   "id": "1c813e39",
   "metadata": {},
   "outputs": [],
   "source": [
    "#prediction\n",
    "y_pred = regressor.predict(X_test)"
   ]
  },
  {
   "cell_type": "code",
   "execution_count": 116,
   "id": "6b691562",
   "metadata": {},
   "outputs": [],
   "source": [
    "#model evaluation\n",
    "mse = mean_squared_error(y_test, y_pred)\n",
    "r2 = r2_score(y_test, y_pred)"
   ]
  },
  {
   "cell_type": "code",
   "execution_count": 117,
   "id": "765118da",
   "metadata": {},
   "outputs": [
    {
     "name": "stdout",
     "output_type": "stream",
     "text": [
      "Mean Squared Error: 0.1297\n",
      "R-squared: 0.9386\n"
     ]
    }
   ],
   "source": [
    "#printing results\n",
    "print(f\"Mean Squared Error: {mse:.4f}\")\n",
    "print(f\"R-squared: {r2:.4f}\")"
   ]
  },
  {
   "cell_type": "code",
   "execution_count": null,
   "id": "83eff032",
   "metadata": {},
   "outputs": [],
   "source": []
  },
  {
   "cell_type": "code",
   "execution_count": null,
   "id": "7cd530b1",
   "metadata": {},
   "outputs": [],
   "source": []
  },
  {
   "cell_type": "code",
   "execution_count": null,
   "id": "3c51a5e8",
   "metadata": {},
   "outputs": [],
   "source": []
  },
  {
   "cell_type": "code",
   "execution_count": null,
   "id": "b6bff5ab",
   "metadata": {},
   "outputs": [],
   "source": []
  },
  {
   "cell_type": "code",
   "execution_count": 123,
   "id": "20bf6c8b",
   "metadata": {},
   "outputs": [
    {
     "data": {
      "text/plain": [
       "0       3\n",
       "1       0\n",
       "2       4\n",
       "3       5\n",
       "4       3\n",
       "       ..\n",
       "8995    2\n",
       "8996    3\n",
       "8997    4\n",
       "8998    4\n",
       "8999    5\n",
       "Name: Grade, Length: 9000, dtype: int32"
      ]
     },
     "execution_count": 123,
     "metadata": {},
     "output_type": "execute_result"
    }
   ],
   "source": [
    "y"
   ]
  },
  {
   "cell_type": "code",
   "execution_count": 120,
   "id": "21b25353",
   "metadata": {},
   "outputs": [
    {
     "data": {
      "text/html": [
       "<div>\n",
       "<style scoped>\n",
       "    .dataframe tbody tr th:only-of-type {\n",
       "        vertical-align: middle;\n",
       "    }\n",
       "\n",
       "    .dataframe tbody tr th {\n",
       "        vertical-align: top;\n",
       "    }\n",
       "\n",
       "    .dataframe thead th {\n",
       "        text-align: right;\n",
       "    }\n",
       "</style>\n",
       "<table border=\"1\" class=\"dataframe\">\n",
       "  <thead>\n",
       "    <tr style=\"text-align: right;\">\n",
       "      <th></th>\n",
       "      <th>Math</th>\n",
       "      <th>Physics</th>\n",
       "      <th>Chemistry</th>\n",
       "    </tr>\n",
       "  </thead>\n",
       "  <tbody>\n",
       "    <tr>\n",
       "      <th>0</th>\n",
       "      <td>76</td>\n",
       "      <td>84</td>\n",
       "      <td>54</td>\n",
       "    </tr>\n",
       "    <tr>\n",
       "      <th>1</th>\n",
       "      <td>91</td>\n",
       "      <td>75</td>\n",
       "      <td>78</td>\n",
       "    </tr>\n",
       "    <tr>\n",
       "      <th>2</th>\n",
       "      <td>64</td>\n",
       "      <td>98</td>\n",
       "      <td>20</td>\n",
       "    </tr>\n",
       "    <tr>\n",
       "      <th>3</th>\n",
       "      <td>15</td>\n",
       "      <td>95</td>\n",
       "      <td>32</td>\n",
       "    </tr>\n",
       "    <tr>\n",
       "      <th>4</th>\n",
       "      <td>86</td>\n",
       "      <td>86</td>\n",
       "      <td>66</td>\n",
       "    </tr>\n",
       "    <tr>\n",
       "      <th>...</th>\n",
       "      <td>...</td>\n",
       "      <td>...</td>\n",
       "      <td>...</td>\n",
       "    </tr>\n",
       "    <tr>\n",
       "      <th>8995</th>\n",
       "      <td>40</td>\n",
       "      <td>87</td>\n",
       "      <td>65</td>\n",
       "    </tr>\n",
       "    <tr>\n",
       "      <th>8996</th>\n",
       "      <td>56</td>\n",
       "      <td>84</td>\n",
       "      <td>75</td>\n",
       "    </tr>\n",
       "    <tr>\n",
       "      <th>8997</th>\n",
       "      <td>80</td>\n",
       "      <td>70</td>\n",
       "      <td>16</td>\n",
       "    </tr>\n",
       "    <tr>\n",
       "      <th>8998</th>\n",
       "      <td>24</td>\n",
       "      <td>95</td>\n",
       "      <td>59</td>\n",
       "    </tr>\n",
       "    <tr>\n",
       "      <th>8999</th>\n",
       "      <td>31</td>\n",
       "      <td>76</td>\n",
       "      <td>18</td>\n",
       "    </tr>\n",
       "  </tbody>\n",
       "</table>\n",
       "<p>9000 rows × 3 columns</p>\n",
       "</div>"
      ],
      "text/plain": [
       "      Math  Physics  Chemistry\n",
       "0       76       84         54\n",
       "1       91       75         78\n",
       "2       64       98         20\n",
       "3       15       95         32\n",
       "4       86       86         66\n",
       "...    ...      ...        ...\n",
       "8995    40       87         65\n",
       "8996    56       84         75\n",
       "8997    80       70         16\n",
       "8998    24       95         59\n",
       "8999    31       76         18\n",
       "\n",
       "[9000 rows x 3 columns]"
      ]
     },
     "execution_count": 120,
     "metadata": {},
     "output_type": "execute_result"
    }
   ],
   "source": [
    "X"
   ]
  },
  {
   "cell_type": "code",
   "execution_count": null,
   "id": "7999daca",
   "metadata": {},
   "outputs": [],
   "source": []
  },
  {
   "cell_type": "code",
   "execution_count": null,
   "id": "c9d04de0",
   "metadata": {},
   "outputs": [],
   "source": []
  },
  {
   "cell_type": "code",
   "execution_count": null,
   "id": "33247452",
   "metadata": {},
   "outputs": [],
   "source": []
  },
  {
   "cell_type": "code",
   "execution_count": null,
   "id": "a82694eb",
   "metadata": {},
   "outputs": [],
   "source": []
  },
  {
   "cell_type": "code",
   "execution_count": null,
   "id": "e8559d3e",
   "metadata": {},
   "outputs": [],
   "source": []
  },
  {
   "cell_type": "code",
   "execution_count": null,
   "id": "091c9cb4",
   "metadata": {},
   "outputs": [],
   "source": []
  }
 ],
 "metadata": {
  "kernelspec": {
   "display_name": "Python 3 (ipykernel)",
   "language": "python",
   "name": "python3"
  },
  "language_info": {
   "codemirror_mode": {
    "name": "ipython",
    "version": 3
   },
   "file_extension": ".py",
   "mimetype": "text/x-python",
   "name": "python",
   "nbconvert_exporter": "python",
   "pygments_lexer": "ipython3",
   "version": "3.11.5"
  }
 },
 "nbformat": 4,
 "nbformat_minor": 5
}
